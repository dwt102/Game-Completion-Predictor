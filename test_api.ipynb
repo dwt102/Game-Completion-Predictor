{
 "cells": [
  {
   "cell_type": "code",
   "execution_count": 1,
   "id": "1c877c53",
   "metadata": {},
   "outputs": [],
   "source": [
    "import requests\n",
    "import pandas as pd\n",
    "from tqdm import tqdm\n",
    "import time"
   ]
  },
  {
   "cell_type": "code",
   "execution_count": null,
   "id": "5377a307",
   "metadata": {},
   "outputs": [],
   "source": []
  },
  {
   "cell_type": "code",
   "execution_count": 2,
   "id": "30eddc93",
   "metadata": {},
   "outputs": [
    {
     "name": "stderr",
     "output_type": "stream",
     "text": [
      "Fetching game details: 100%|██████████| 200/200 [03:21<00:00,  1.01s/it]"
     ]
    },
    {
     "name": "stdout",
     "output_type": "stream",
     "text": [
      "Done. Data saved to rawg_200_games_details.csv\n"
     ]
    },
    {
     "name": "stderr",
     "output_type": "stream",
     "text": [
      "\n"
     ]
    }
   ],
   "source": [
    "\n",
    "API_KEY = \"1b0fb19cd3fa40d5aa716747d08eee46\"  \n",
    "BASE_URL = \"https://api.rawg.io/api/games\"\n",
    "\n",
    "# Danh sách lưu slug của 200 game đầu tiên\n",
    "game_slugs = []\n",
    "\n",
    "# Lấy 200 game phổ biến đầu tiên (10 trang, mỗi trang 20 game)\n",
    "for page in range(1, 11):\n",
    "    params = {\n",
    "        \"key\": API_KEY,\n",
    "        \"page\": page,\n",
    "        \"page_size\": 20\n",
    "    }\n",
    "    res = requests.get(BASE_URL, params=params)\n",
    "    data = res.json()\n",
    "    for game in data[\"results\"]:\n",
    "        game_slugs.append(game[\"slug\"])\n",
    "\n",
    "# Lấy thông tin chi tiết cho từng game\n",
    "game_details = []\n",
    "\n",
    "for slug in tqdm(game_slugs, desc=\"Fetching game details\"):\n",
    "    detail_url = f\"{BASE_URL}/{slug}\"\n",
    "    params = {\"key\": API_KEY}\n",
    "    res = requests.get(detail_url, params=params)\n",
    "    if res.status_code != 200:\n",
    "        print(f\"Failed to fetch {slug}\")\n",
    "        continue\n",
    "\n",
    "    g = res.json()\n",
    "\n",
    "    # Parse dữ liệu mong muốn\n",
    "    game_details.append({\n",
    "        \"name\": g.get(\"name\"),\n",
    "        \"description_raw\": g.get(\"description_raw\"),\n",
    "        \"metacritic\": g.get(\"metacritic\"),\n",
    "        \"playtime\": g.get(\"playtime\"),\n",
    "        \"tags\": [tag[\"name\"] for tag in g.get(\"tags\", [])],\n",
    "        \"stores\": [store[\"store\"][\"name\"] for store in g.get(\"stores\", [])],\n",
    "        \"esrb_rating\": g[\"esrb_rating\"][\"name\"] if g.get(\"esrb_rating\") else None,\n",
    "        \"developers\": [dev[\"name\"] for dev in g.get(\"developers\", [])],\n",
    "        \"publishers\": [pub[\"name\"] for pub in g.get(\"publishers\", [])],\n",
    "        \"updated\": g.get(\"updated\"),\n",
    "        \"added_by_status\": g.get(\"added_by_status\")\n",
    "    })\n",
    "\n",
    "    time.sleep(0.3)  # Tránh gọi API quá nhanh\n",
    "\n",
    "# Lưu vào file CSV để phân tích sau\n",
    "df = pd.DataFrame(game_details)\n",
    "df.to_csv(\"rawg_200_games_details.csv\", index=False)\n",
    "\n",
    "print(\"Done. Data saved to rawg_200_games_details.csv\")\n"
   ]
  },
  {
   "cell_type": "code",
   "execution_count": 7,
   "id": "fc17e35c",
   "metadata": {},
   "outputs": [
    {
     "data": {
      "text/html": [
       "<div>\n",
       "<style scoped>\n",
       "    .dataframe tbody tr th:only-of-type {\n",
       "        vertical-align: middle;\n",
       "    }\n",
       "\n",
       "    .dataframe tbody tr th {\n",
       "        vertical-align: top;\n",
       "    }\n",
       "\n",
       "    .dataframe thead th {\n",
       "        text-align: right;\n",
       "    }\n",
       "</style>\n",
       "<table border=\"1\" class=\"dataframe\">\n",
       "  <thead>\n",
       "    <tr style=\"text-align: right;\">\n",
       "      <th></th>\n",
       "      <th>name</th>\n",
       "      <th>description_raw</th>\n",
       "      <th>metacritic</th>\n",
       "      <th>playtime</th>\n",
       "      <th>tags</th>\n",
       "      <th>stores</th>\n",
       "      <th>esrb_rating</th>\n",
       "      <th>developers</th>\n",
       "      <th>publishers</th>\n",
       "      <th>updated</th>\n",
       "      <th>added_by_status</th>\n",
       "    </tr>\n",
       "  </thead>\n",
       "  <tbody>\n",
       "    <tr>\n",
       "      <th>0</th>\n",
       "      <td>Grand Theft Auto V</td>\n",
       "      <td>Rockstar Games went bigger, since their previo...</td>\n",
       "      <td>92.0</td>\n",
       "      <td>74</td>\n",
       "      <td>['Singleplayer', 'Steam Achievements', 'Multip...</td>\n",
       "      <td>['Steam', 'PlayStation Store', 'Epic Games', '...</td>\n",
       "      <td>Mature</td>\n",
       "      <td>['Rockstar North', 'Rockstar Games']</td>\n",
       "      <td>['Rockstar Games']</td>\n",
       "      <td>2025-05-26T14:58:48</td>\n",
       "      <td>{'yet': 557, 'owned': 12702, 'beaten': 6240, '...</td>\n",
       "    </tr>\n",
       "    <tr>\n",
       "      <th>1</th>\n",
       "      <td>The Witcher 3: Wild Hunt</td>\n",
       "      <td>The third game in a series, it holds nothing b...</td>\n",
       "      <td>92.0</td>\n",
       "      <td>43</td>\n",
       "      <td>['Singleplayer', 'Full controller support', 'A...</td>\n",
       "      <td>['GOG', 'PlayStation Store', 'Steam', 'Xbox St...</td>\n",
       "      <td>Mature</td>\n",
       "      <td>['CD PROJEKT RED']</td>\n",
       "      <td>['CD PROJEKT RED']</td>\n",
       "      <td>2025-05-25T18:05:53</td>\n",
       "      <td>{'yet': 1173, 'owned': 12701, 'beaten': 5083, ...</td>\n",
       "    </tr>\n",
       "    <tr>\n",
       "      <th>2</th>\n",
       "      <td>Portal 2</td>\n",
       "      <td>Portal 2 is a first-person puzzle game develop...</td>\n",
       "      <td>95.0</td>\n",
       "      <td>11</td>\n",
       "      <td>['Singleplayer', 'Steam Achievements', 'Multip...</td>\n",
       "      <td>['Xbox Store', 'Steam', 'PlayStation Store', '...</td>\n",
       "      <td>Everyone 10+</td>\n",
       "      <td>['Valve Software']</td>\n",
       "      <td>['Electronic Arts', 'Valve']</td>\n",
       "      <td>2025-05-26T14:58:22</td>\n",
       "      <td>{'yet': 657, 'owned': 13004, 'beaten': 5711, '...</td>\n",
       "    </tr>\n",
       "    <tr>\n",
       "      <th>3</th>\n",
       "      <td>Counter-Strike: Global Offensive</td>\n",
       "      <td>Counter-Strike is a multiplayer phenomenon in ...</td>\n",
       "      <td>81.0</td>\n",
       "      <td>64</td>\n",
       "      <td>['Steam Achievements', 'Multiplayer', 'Full co...</td>\n",
       "      <td>['PlayStation Store', 'Steam', 'Xbox 360 Store']</td>\n",
       "      <td>Mature</td>\n",
       "      <td>['Valve Software', 'Hidden Path Entertainment']</td>\n",
       "      <td>['Valve']</td>\n",
       "      <td>2025-05-26T16:11:35</td>\n",
       "      <td>{'yet': 268, 'owned': 14083, 'beaten': 1105, '...</td>\n",
       "    </tr>\n",
       "    <tr>\n",
       "      <th>4</th>\n",
       "      <td>Tomb Raider (2013)</td>\n",
       "      <td>A cinematic revival of the series in its actio...</td>\n",
       "      <td>86.0</td>\n",
       "      <td>10</td>\n",
       "      <td>['Singleplayer', 'Multiplayer', 'Full controll...</td>\n",
       "      <td>['Xbox 360 Store', 'Steam', 'PlayStation Store...</td>\n",
       "      <td>Mature</td>\n",
       "      <td>['Crystal Dynamics']</td>\n",
       "      <td>['Square Enix']</td>\n",
       "      <td>2025-05-23T20:02:39</td>\n",
       "      <td>{'yet': 695, 'owned': 11542, 'beaten': 4393, '...</td>\n",
       "    </tr>\n",
       "  </tbody>\n",
       "</table>\n",
       "</div>"
      ],
      "text/plain": [
       "                               name  \\\n",
       "0                Grand Theft Auto V   \n",
       "1          The Witcher 3: Wild Hunt   \n",
       "2                          Portal 2   \n",
       "3  Counter-Strike: Global Offensive   \n",
       "4                Tomb Raider (2013)   \n",
       "\n",
       "                                     description_raw  metacritic  playtime  \\\n",
       "0  Rockstar Games went bigger, since their previo...        92.0        74   \n",
       "1  The third game in a series, it holds nothing b...        92.0        43   \n",
       "2  Portal 2 is a first-person puzzle game develop...        95.0        11   \n",
       "3  Counter-Strike is a multiplayer phenomenon in ...        81.0        64   \n",
       "4  A cinematic revival of the series in its actio...        86.0        10   \n",
       "\n",
       "                                                tags  \\\n",
       "0  ['Singleplayer', 'Steam Achievements', 'Multip...   \n",
       "1  ['Singleplayer', 'Full controller support', 'A...   \n",
       "2  ['Singleplayer', 'Steam Achievements', 'Multip...   \n",
       "3  ['Steam Achievements', 'Multiplayer', 'Full co...   \n",
       "4  ['Singleplayer', 'Multiplayer', 'Full controll...   \n",
       "\n",
       "                                              stores   esrb_rating  \\\n",
       "0  ['Steam', 'PlayStation Store', 'Epic Games', '...        Mature   \n",
       "1  ['GOG', 'PlayStation Store', 'Steam', 'Xbox St...        Mature   \n",
       "2  ['Xbox Store', 'Steam', 'PlayStation Store', '...  Everyone 10+   \n",
       "3   ['PlayStation Store', 'Steam', 'Xbox 360 Store']        Mature   \n",
       "4  ['Xbox 360 Store', 'Steam', 'PlayStation Store...        Mature   \n",
       "\n",
       "                                        developers  \\\n",
       "0             ['Rockstar North', 'Rockstar Games']   \n",
       "1                               ['CD PROJEKT RED']   \n",
       "2                               ['Valve Software']   \n",
       "3  ['Valve Software', 'Hidden Path Entertainment']   \n",
       "4                             ['Crystal Dynamics']   \n",
       "\n",
       "                     publishers              updated  \\\n",
       "0            ['Rockstar Games']  2025-05-26T14:58:48   \n",
       "1            ['CD PROJEKT RED']  2025-05-25T18:05:53   \n",
       "2  ['Electronic Arts', 'Valve']  2025-05-26T14:58:22   \n",
       "3                     ['Valve']  2025-05-26T16:11:35   \n",
       "4               ['Square Enix']  2025-05-23T20:02:39   \n",
       "\n",
       "                                     added_by_status  \n",
       "0  {'yet': 557, 'owned': 12702, 'beaten': 6240, '...  \n",
       "1  {'yet': 1173, 'owned': 12701, 'beaten': 5083, ...  \n",
       "2  {'yet': 657, 'owned': 13004, 'beaten': 5711, '...  \n",
       "3  {'yet': 268, 'owned': 14083, 'beaten': 1105, '...  \n",
       "4  {'yet': 695, 'owned': 11542, 'beaten': 4393, '...  "
      ]
     },
     "execution_count": 7,
     "metadata": {},
     "output_type": "execute_result"
    }
   ],
   "source": [
    "df = pd.read_csv(\"rawg_200_games_details.csv\")\n",
    "df.head()"
   ]
  },
  {
   "cell_type": "code",
   "execution_count": 8,
   "id": "95929975",
   "metadata": {},
   "outputs": [
    {
     "name": "stdout",
     "output_type": "stream",
     "text": [
      "<class 'pandas.core.frame.DataFrame'>\n",
      "RangeIndex: 200 entries, 0 to 199\n",
      "Data columns (total 11 columns):\n",
      " #   Column           Non-Null Count  Dtype  \n",
      "---  ------           --------------  -----  \n",
      " 0   name             200 non-null    object \n",
      " 1   description_raw  200 non-null    object \n",
      " 2   metacritic       187 non-null    float64\n",
      " 3   playtime         200 non-null    int64  \n",
      " 4   tags             200 non-null    object \n",
      " 5   stores           200 non-null    object \n",
      " 6   esrb_rating      165 non-null    object \n",
      " 7   developers       200 non-null    object \n",
      " 8   publishers       200 non-null    object \n",
      " 9   updated          200 non-null    object \n",
      " 10  added_by_status  200 non-null    object \n",
      "dtypes: float64(1), int64(1), object(9)\n",
      "memory usage: 17.3+ KB\n"
     ]
    }
   ],
   "source": [
    "df.info()"
   ]
  },
  {
   "cell_type": "code",
   "execution_count": 4,
   "id": "78a95600",
   "metadata": {},
   "outputs": [
    {
     "name": "stderr",
     "output_type": "stream",
     "text": [
      "Fetching game list: 100%|██████████| 26/26 [00:48<00:00,  1.87s/it]\n"
     ]
    },
    {
     "name": "stdout",
     "output_type": "stream",
     "text": [
      "✅ Collected 1040 game slugs\n"
     ]
    },
    {
     "name": "stderr",
     "output_type": "stream",
     "text": [
      "Fetching game details:  99%|█████████▉| 1033/1040 [17:07<00:10,  1.50s/it]"
     ]
    },
    {
     "name": "stdout",
     "output_type": "stream",
     "text": [
      "Failed to fetch details for owlboy\n"
     ]
    },
    {
     "name": "stderr",
     "output_type": "stream",
     "text": [
      "Fetching game details:  99%|█████████▉| 1034/1040 [17:07<00:07,  1.17s/it]"
     ]
    },
    {
     "name": "stdout",
     "output_type": "stream",
     "text": [
      "Failed to fetch details for qube-directors-cut\n"
     ]
    },
    {
     "name": "stderr",
     "output_type": "stream",
     "text": [
      "Fetching game details: 100%|█████████▉| 1036/1040 [17:09<00:03,  1.01it/s]"
     ]
    },
    {
     "name": "stdout",
     "output_type": "stream",
     "text": [
      "Failed to fetch details for burnout-paradise-remastered\n"
     ]
    },
    {
     "name": "stderr",
     "output_type": "stream",
     "text": [
      "Fetching game details: 100%|█████████▉| 1037/1040 [17:10<00:02,  1.10it/s]"
     ]
    },
    {
     "name": "stdout",
     "output_type": "stream",
     "text": [
      "Failed to fetch details for a-plague-tale-requiem\n"
     ]
    },
    {
     "name": "stderr",
     "output_type": "stream",
     "text": [
      "Fetching game details: 100%|█████████▉| 1038/1040 [17:10<00:01,  1.39it/s]"
     ]
    },
    {
     "name": "stdout",
     "output_type": "stream",
     "text": [
      "Failed to fetch details for project-cars-2\n"
     ]
    },
    {
     "name": "stderr",
     "output_type": "stream",
     "text": [
      "Fetching game details: 100%|██████████| 1040/1040 [17:11<00:00,  1.01it/s]"
     ]
    },
    {
     "name": "stdout",
     "output_type": "stream",
     "text": [
      "Failed to fetch details for blacklight-retribution\n",
      "Done! Saved to rawg_games_1000.csv\n"
     ]
    },
    {
     "name": "stderr",
     "output_type": "stream",
     "text": [
      "\n"
     ]
    }
   ],
   "source": [
    "\n",
    "API_KEY = \"1b0fb19cd3fa40d5aa716747d08eee46\" \n",
    "BASE_URL = \"https://api.rawg.io/api/games\"\n",
    "\n",
    "# Số lượng game bạn muốn lấy (ví dụ: 1000)\n",
    "TOTAL_GAMES = 1000\n",
    "PAGE_SIZE = 40  # Tối đa mà RAWG cho phép là 40 game mỗi trang\n",
    "total_pages = (TOTAL_GAMES // PAGE_SIZE) + 1\n",
    "\n",
    "game_slugs = []\n",
    "\n",
    "# B1: Lấy slug cho tất cả game\n",
    "for page in tqdm(range(1, total_pages + 1), desc=\"Fetching game list\"):\n",
    "    params = {\n",
    "        \"key\": API_KEY,\n",
    "        \"page\": page,\n",
    "        \"page_size\": PAGE_SIZE\n",
    "    }\n",
    "    res = requests.get(BASE_URL, params=params)\n",
    "    if res.status_code != 200:\n",
    "        print(f\"⚠️ Failed to get page {page}\")\n",
    "        continue\n",
    "\n",
    "    data = res.json()\n",
    "    for game in data.get(\"results\", []):\n",
    "        game_slugs.append(game[\"slug\"])\n",
    "\n",
    "    time.sleep(0.2)  # nghỉ chút để tránh bị giới hạn tốc độ\n",
    "\n",
    "print(f\"✅ Collected {len(game_slugs)} game slugs\")\n",
    "\n",
    "# B2: Lấy chi tiết cho từng game\n",
    "game_details = []\n",
    "\n",
    "for slug in tqdm(game_slugs, desc=\"Fetching game details\"):\n",
    "    detail_url = f\"{BASE_URL}/{slug}\"\n",
    "    res = requests.get(detail_url, params={\"key\": API_KEY})\n",
    "    if res.status_code != 200:\n",
    "        print(f\"Failed to fetch details for {slug}\")\n",
    "        continue\n",
    "\n",
    "    g = res.json()\n",
    "\n",
    "    game_details.append({\n",
    "        \"name\": g.get(\"name\"),\n",
    "        \"description_raw\": g.get(\"description_raw\"),\n",
    "        \"metacritic\": g.get(\"metacritic\"),\n",
    "        \"playtime\": g.get(\"playtime\"),\n",
    "        \"tags\": [tag[\"name\"] for tag in g.get(\"tags\", [])],\n",
    "        \"stores\": [store[\"store\"][\"name\"] for store in g.get(\"stores\", [])],\n",
    "        \"esrb_rating\": g[\"esrb_rating\"][\"name\"] if g.get(\"esrb_rating\") else None,\n",
    "        \"developers\": [dev[\"name\"] for dev in g.get(\"developers\", [])],\n",
    "        \"publishers\": [pub[\"name\"] for pub in g.get(\"publishers\", [])],\n",
    "        \"updated\": g.get(\"updated\"),\n",
    "        \"added_by_status\": g.get(\"added_by_status\")\n",
    "    })\n",
    "\n",
    "    time.sleep(0.3)\n",
    "\n",
    "# B3: Lưu kết quả ra CSV\n",
    "df = pd.DataFrame(game_details)\n",
    "df.to_csv(\"rawg_games_1000.csv\", index=False)\n",
    "\n",
    "print(\"Done! Saved to rawg_games_1000.csv\")\n"
   ]
  },
  {
   "cell_type": "code",
   "execution_count": null,
   "id": "88b320a8",
   "metadata": {},
   "outputs": [],
   "source": []
  }
 ],
 "metadata": {
  "kernelspec": {
   "display_name": "base",
   "language": "python",
   "name": "python3"
  },
  "language_info": {
   "codemirror_mode": {
    "name": "ipython",
    "version": 3
   },
   "file_extension": ".py",
   "mimetype": "text/x-python",
   "name": "python",
   "nbconvert_exporter": "python",
   "pygments_lexer": "ipython3",
   "version": "3.12.7"
  }
 },
 "nbformat": 4,
 "nbformat_minor": 5
}
